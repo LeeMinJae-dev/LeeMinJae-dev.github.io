{
 "cells": [
  {
   "cell_type": "markdown",
   "id": "41851688",
   "metadata": {},
   "source": [
    "---\n",
    "title : \"[BOJ] 1932 정수 삼각형 (Python3)\"\n",
    "toc : true\n",
    "toc_sticky : true\n",
    "toc_lable : \"On this Page\"\n",
    "categories : baekjoon\n",
    "---\n",
    "## 문제\n",
    "```\n",
    "        7   \n",
    "      3   8    \n",
    "    8   1   0    \n",
    "  2   7   4   4    \n",
    "4   5   2   6   5     \n",
    "```\n",
    "\n",
    "위 그림은 크기가 5인 정수 삼각형의 한 모습이다.\n",
    "\n",
    "맨 위층 7부터 시작해서 아래에 있는 수 중 하나를 선택하여 아래층으로 내려올 때, 이제까지 선택된 수의 합이 최대가 되는 경로를 구하는 프로그램을 작성하라. 아래층에 있는 수는 현재 층에서 선택된 수의 대각선 왼쪽 또는 대각선 오른쪽에 있는 것 중에서만 선택할 수 있다.\n",
    "\n",
    "삼각형의 크기는 1 이상 500 이하이다. 삼각형을 이루고 있는 각 수는 모두 정수이며, 범위는 0 이상 9999 이하이다.\n",
    "\n",
    "## 입력\n",
    "첫째 줄에 삼각형의 크기 n(1 ≤ n ≤ 500)이 주어지고, 둘째 줄부터 n+1번째 줄까지 정수 삼각형이 주어진다.\n",
    "\n",
    "## 출력\n",
    "첫째 줄에 합이 최대가 되는 경로에 있는 수의 합을 출력한다.\n",
    "\n",
    "예제 입력 1  \n",
    "```\n",
    "5   \n",
    "7      \n",
    "3 8   \n",
    "8 1 0   \n",
    "2 7 4 4   \n",
    "4 5 2 6 5   \n",
    "```\n",
    "\n",
    "예제 출력 1   \n",
    "30\n",
    "\n",
    "## 문제 풀이\n",
    "다이나믹 프로그래밍은 풀수록 더 머리가 아프다.    \n",
    "다른 알고리즘도 마찬가지지만, 다이나믹 프로그래밍 문제는 반드시 노트를 함께해야 헷갈리지 않게 빨리 문제를 풀 수 있을 것 같다. 그래도 이 문제를 머리를 싸매고 풀고나니 대충 다이나믹 프로그래밍을 어떻게 접근해야 하는지에 대해 좀 보이는 것 같다.\n",
    "\n",
    "피보나치 수열과 비슷하게 생각해보면, 결국 아래의 요소는 위 왼쪽 대각과 위의 요소중에서 자신과 더했을때 더 큰값을 자신으로 바꾸면 가장 큰 수가 나오는 길이 어딘지 알 수 있다. 따라서 왼쪽위가 없는경우, 위쪽이 없는경우를 예외로 처리하고 나머지는 위 두 요소를 자신과 합했을 때 더 큰값을 자신으로 하게 하면 이 문제를 풀 수 있다.\n",
    "\n",
    "## 코드"
   ]
  },
  {
   "cell_type": "code",
   "execution_count": 59,
   "id": "906b4012",
   "metadata": {
    "scrolled": true
   },
   "outputs": [
    {
     "name": "stdout",
     "output_type": "stream",
     "text": [
      "5\n",
      "1 0\n",
      "1 1\n",
      "2 0\n",
      "2 1\n",
      "11 16\n",
      "2 2\n",
      "3 0\n",
      "3 1\n",
      "25 23\n",
      "3 2\n",
      "20 19\n",
      "3 3\n",
      "4 0\n",
      "4 1\n",
      "25 30\n",
      "4 2\n",
      "27 22\n",
      "4 3\n",
      "26 25\n",
      "4 4\n",
      "30\n"
     ]
    }
   ],
   "source": [
    "n = int(input())\n",
    "triangle = [list(map(int,input().split())) for i in range(n)]\n",
    "\n",
    "for i in range(1,len(triangle)):\n",
    "    for j in range(len(triangle[i])):\n",
    "        if j-1 < 0:\n",
    "            triangle[i][j] += triangle[i-1][j]\n",
    "        elif j > len(triangle[i-1])-1:\n",
    "            triangle[i][j] += triangle[i-1][j-1]\n",
    "        else:\n",
    "            triangle[i][j] = max(triangle[i][j] + triangle[i-1][j-1],triangle[i][j]+triangle[i-1][j])\n",
    "print(max(map(max,triangle)))           \n",
    "            \n",
    "            \n",
    "            "
   ]
  }
 ],
 "metadata": {
  "kernelspec": {
   "display_name": "Python 3",
   "language": "python",
   "name": "python3"
  },
  "language_info": {
   "codemirror_mode": {
    "name": "ipython",
    "version": 3
   },
   "file_extension": ".py",
   "mimetype": "text/x-python",
   "name": "python",
   "nbconvert_exporter": "python",
   "pygments_lexer": "ipython3",
   "version": "3.8.8"
  }
 },
 "nbformat": 4,
 "nbformat_minor": 5
}
